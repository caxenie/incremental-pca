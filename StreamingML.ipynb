{
 "cells": [
  {
   "cell_type": "markdown",
   "metadata": {
    "slideshow": {
     "slide_type": "slide"
    }
   },
   "source": [
    "# Statistical Machine Learning on \n",
    "# Evolving Non-stationary Data Streams"
   ]
  },
  {
   "cell_type": "markdown",
   "metadata": {
    "slideshow": {
     "slide_type": "slide"
    }
   },
   "source": [
    "# Outline\n",
    "\n",
    "- Beyond i.i.d\n",
    "- Stream Processing\n",
    "- Streaming Machine Learning\n",
    "- Case study\n",
    "- Conclusion"
   ]
  },
  {
   "cell_type": "markdown",
   "metadata": {
    "slideshow": {
     "slide_type": "slide"
    }
   },
   "source": [
    "\n",
    "![](./big-data.png)\n"
   ]
  },
  {
   "cell_type": "markdown",
   "metadata": {
    "slideshow": {
     "slide_type": "slide"
    }
   },
   "source": [
    "# Beyond i.i.d"
   ]
  },
  {
   "cell_type": "markdown",
   "metadata": {
    "slideshow": {
     "slide_type": "slide"
    }
   },
   "source": [
    "# Beyond i.i.d\n",
    "\n",
    "* __Traditional machine learning and data mining__ assume **independent and identically distributed (i.i.d)** of the data.\n",
    "* __Data samples__, in the **past and current time** do **not affect** the probability for **future** ones. "
   ]
  },
  {
   "cell_type": "markdown",
   "metadata": {
    "slideshow": {
     "slide_type": "slide"
    }
   },
   "source": [
    "# Beyond i.i.d\n",
    "\n",
    "* Data samples arrive __continuously__, __online__ through unlimited **streams** often at __high speed__ [Sayed-Mouchaweh, 2016].\n",
    "* The __process__ generating these data streams __may evolve over time__ (i.e. non-stationarity).\n",
    "\n",
    "![](noniid.png)\n"
   ]
  },
  {
   "cell_type": "markdown",
   "metadata": {
    "slideshow": {
     "slide_type": "slide"
    }
   },
   "source": [
    "# Beyond i.i.d\n",
    "\n",
    "In order to deal with evolving data streams, the __model learnt from the streaming data__ must capture up-to-date __trends__ and __transient patterns__ in the stream. \n",
    "\n",
    "__Types of change in regression__\n",
    "![](changes-types-labels.png)"
   ]
  },
  {
   "cell_type": "markdown",
   "metadata": {
    "slideshow": {
     "slide_type": "slide"
    }
   },
   "source": [
    "# Beyond i.i.d\n",
    "\n",
    "__Updating the model__ by incorporating new examples, we must also **eliminate the effects of outdated examples** representing outdated concepts through __one-pass__.\n",
    "\n",
    "__Typical changes in classification__\n",
    "\n",
    "![](changes-sample-labels.png)"
   ]
  },
  {
   "cell_type": "markdown",
   "metadata": {
    "slideshow": {
     "slide_type": "slide"
    }
   },
   "source": [
    "# Stream Processing"
   ]
  },
  {
   "cell_type": "markdown",
   "metadata": {
    "slideshow": {
     "slide_type": "slide"
    }
   },
   "source": [
    "\n",
    "# Stream Processing\n",
    "\n",
    "Given a sequence of data (__a stream__), a series of operations (functions) is applied to each element in the stream, in a declarative way, we specify __what we want to achieve and not how__ [Bifet, 2010].\n",
    "![](./stream-animation/streamanim.gif)\n"
   ]
  },
  {
   "cell_type": "markdown",
   "metadata": {
    "slideshow": {
     "slide_type": "slide"
    }
   },
   "source": [
    "# Stream Processing\n",
    "\n",
    "Data __Stream Processing__ is more challenging than __batch processing__ [Bifet, 2010] due to:\n",
    "* the **amount of data**\n",
    "* the __speed of arrival__\n",
    "* the __changes in the distribution generating the data__ "
   ]
  },
  {
   "cell_type": "markdown",
   "metadata": {
    "slideshow": {
     "slide_type": "slide"
    }
   },
   "source": [
    "# Streaming Machine Learning"
   ]
  },
  {
   "cell_type": "markdown",
   "metadata": {
    "slideshow": {
     "slide_type": "slide"
    }
   },
   "source": [
    "# Streaming Machine Learning\n",
    "\n",
    "Unlike __conventional machine learning__, the __data flow__ targeted by __streaming machine learning__ becomes available __continuously__ over time and needs to be __processed, incrementally__ and __in a single pass__.\n",
    "\n",
    "The inherent __challenges__ here are: \n",
    "![](./streaming-challenges.png)"
   ]
  },
  {
   "cell_type": "markdown",
   "metadata": {
    "slideshow": {
     "slide_type": "slide"
    }
   },
   "source": [
    "# Case Study\n",
    "## Principal Component Analysis (PCA)"
   ]
  },
  {
   "cell_type": "markdown",
   "metadata": {
    "slideshow": {
     "slide_type": "slide"
    }
   },
   "source": [
    "# Case Study\n",
    "## Principal Component Analysis (PCA)\n",
    "\n",
    "![](svd-graphic-simple.png)"
   ]
  },
  {
   "cell_type": "markdown",
   "metadata": {
    "slideshow": {
     "slide_type": "slide"
    }
   },
   "source": [
    "# Case Study\n",
    "## Principal Component Analysis (PCA)\n",
    "\n",
    "Tackle the __inherent problems in traditional PCA__ impeding it to allow it to learn incrementally from streams:\n",
    "* Calculation of the __mean and other descriptive statistics__ as the data is available for estimating **covariance matrix**\n",
    "* __Sorting the dominant eigenvalues__ in the rank update of the QR decomposition"
   ]
  },
  {
   "cell_type": "markdown",
   "metadata": {
    "slideshow": {
     "slide_type": "slide"
    }
   },
   "source": [
    "## Towards incremental PCA"
   ]
  },
  {
   "cell_type": "markdown",
   "metadata": {
    "slideshow": {
     "slide_type": "slide"
    }
   },
   "source": [
    "## Towards incremental PCA\n",
    "\n",
    "Incremental __calculation of the mean and other descriptive statistics__ on the datastream.\n",
    "![](streaming-mean.png)\n"
   ]
  },
  {
   "cell_type": "markdown",
   "metadata": {
    "slideshow": {
     "slide_type": "slide"
    }
   },
   "source": [
    "## Towards incremental PCA\n",
    "\n",
    "\n",
    "Incremental __updates depending on counts (i.e. histogram)__, which contain sorted eigenvalues.\n",
    "![](streaming-histogram.png)"
   ]
  },
  {
   "cell_type": "markdown",
   "metadata": {
    "slideshow": {
     "slide_type": "slide"
    }
   },
   "source": [
    "# Real-world application"
   ]
  },
  {
   "cell_type": "markdown",
   "metadata": {
    "slideshow": {
     "slide_type": "slide"
    }
   },
   "source": [
    "# Real-world application\n",
    "\n",
    "![](coke.png)\n",
    "\n",
    "- **1\\$ billion of sales in the first 68 seconds** compared with 90 seconds in 2018 and two minutes in 2017\n",
    "- **544,000 sales per second** compared with 256,000 in 2018"
   ]
  },
  {
   "cell_type": "markdown",
   "metadata": {
    "slideshow": {
     "slide_type": "slide"
    }
   },
   "source": [
    "# Real-world application\n",
    "\n",
    "#### Multi-class classification task (fraud detection in bank transactions) [Axenie et al., ICMLA 2019])\n",
    "\n",
    "Goal: **identify frauds** in the incoming bank transactions by **querying the eigenvalues and eigenvectors** in order to extract the **normal and fraud transactions** prior to a **multi-class classifier**."
   ]
  },
  {
   "cell_type": "markdown",
   "metadata": {
    "slideshow": {
     "slide_type": "slide"
    }
   },
   "source": [
    "# Real-world application\n",
    "\n",
    "#### Multi-class classification task (fraud detection in bank transactions) [Axenie et al., ICMLA 2019])\n",
    "\n",
    "The datastream:\n",
    "\n",
    "- **2M incoming events at 40 kHz**\n",
    "- dataset has **10 input features** (e.g. transaction id, account id, transaction amount, transaction date, etc.)\n",
    "- **eigenvalues** of the input $X$ are close to the **class labels** (i.e. ”high-risk fraud”, ”recurrent fraud”, ”low-risk valid”, ”recurrent valid”).\n"
   ]
  },
  {
   "cell_type": "markdown",
   "metadata": {
    "slideshow": {
     "slide_type": "slide"
    }
   },
   "source": [
    "# Performance of Streaming PCA"
   ]
  },
  {
   "cell_type": "markdown",
   "metadata": {
    "slideshow": {
     "slide_type": "slide"
    }
   },
   "source": [
    "## Performance analysis: Throughput\n",
    "![](throughput-analysis.png)\n"
   ]
  },
  {
   "cell_type": "markdown",
   "metadata": {
    "slideshow": {
     "slide_type": "slide"
    }
   },
   "source": [
    "## Performance analysis\n",
    "#### Latency & throughput\n",
    "![](performance-vals.png)\n",
    "#### Accuracy\n",
    "![](accuracy-analysis.png)\n"
   ]
  },
  {
   "cell_type": "markdown",
   "metadata": {
    "slideshow": {
     "slide_type": "slide"
    }
   },
   "source": [
    "## Conclusions"
   ]
  },
  {
   "cell_type": "markdown",
   "metadata": {
    "slideshow": {
     "slide_type": "fragment"
    }
   },
   "source": [
    "- **Streaming machine learning on data streams** is a challenging problem.\n",
    "- **Data size, data speed and the underlying changes** in the data properties yield **new learning models**.\n",
    "- Model **accuracy, processing latency and processing throughput** are usually a trade-off.\n"
   ]
  },
  {
   "cell_type": "markdown",
   "metadata": {
    "slideshow": {
     "slide_type": "slide"
    }
   },
   "source": [
    "# References\n",
    "\n",
    "[Bifet, 2010] Albert Bifet - Adaptive Stream Mining Pattern Learning and Mining from Evolving Data Streams, IOS Press, 2010.\n",
    "\n",
    "[Sugiyama et al., 2012] Masashi Sugiyama, Motoaki Kawanabe - Machine Learning in Non-Stationary Environments Introduction to Covariate Shift Adaptation-The MIT Press, 2012.\n",
    "\n",
    "[Sayed-Mouchaweh, 2016] Moamar Sayed-Mouchaweh - Learning from Data Streams in Dynamic Environments-Springer International Publishing, 2016.\n",
    "\n",
    "[Axenie et al., 2019] Axenie, C.; Tudoran, R.; Bortoli, S.; Hassan, M. A. H.; Carlos, S.; and Brasche, G. In 2019 18th IEEE International Conference on Machine Learning and Applications (ICMLA), 2019. IEEE."
   ]
  },
  {
   "cell_type": "markdown",
   "metadata": {
    "slideshow": {
     "slide_type": "slide"
    }
   },
   "source": [
    "![](moa.png)"
   ]
  },
  {
   "cell_type": "markdown",
   "metadata": {
    "slideshow": {
     "slide_type": "slide"
    }
   },
   "source": [
    "# Lecture notebook download\n",
    "![](./qrcode.png)\n"
   ]
  },
  {
   "cell_type": "markdown",
   "metadata": {
    "slideshow": {
     "slide_type": "skip"
    }
   },
   "source": [
    "# Beyond i.i.d\n",
    "\n",
    "When __training and test data__ follow __different probability distributions__, but the __conditional distributions of output__ values given input points (i.e. __target function__) are __unchanged__, we face __covariate shift__ [Sugiyama et al., 2012]. \n",
    "![](covariate-shift.png)\n"
   ]
  },
  {
   "cell_type": "markdown",
   "metadata": {
    "slideshow": {
     "slide_type": "skip"
    }
   },
   "source": [
    "# Stream Processing\n",
    "\n",
    "Data __Stream Processing__ is more challenging than __batch processing__ [Bifet, 2010] due to:\n",
    "* the amount of data is __extremely large__, potentially infinite - __impossible to store__ \n",
    "* Only a __small summary__ can be computed and stored, and the rest is discarded - unfeasible to go over it\n",
    "* The __speed of arrival is high__, so that each datum has to be processed in __real time__, and then discarded\n",
    "* The __distribution generating the items__ can __change over time__\n",
    "* __Data from the past__ may become __irrelevant (or even harmful)__ for the current summary"
   ]
  },
  {
   "cell_type": "markdown",
   "metadata": {
    "slideshow": {
     "slide_type": "skip"
    }
   },
   "source": [
    "![](./basic-pca.png)"
   ]
  },
  {
   "cell_type": "markdown",
   "metadata": {
    "slideshow": {
     "slide_type": "skip"
    }
   },
   "source": [
    "![](streaming-neural-covariance.png)"
   ]
  },
  {
   "cell_type": "markdown",
   "metadata": {
    "slideshow": {
     "slide_type": "skip"
    }
   },
   "source": [
    "The incremental __estimation of the covariance matrix__ as a **Linear Least Squares** regression [Axenie et al., 2019]."
   ]
  },
  {
   "cell_type": "markdown",
   "metadata": {
    "slideshow": {
     "slide_type": "skip"
    }
   },
   "source": [
    "\n",
    "![](streaming-lls.png)\n"
   ]
  },
  {
   "cell_type": "markdown",
   "metadata": {
    "slideshow": {
     "slide_type": "skip"
    }
   },
   "source": [
    "## Performance analysis: Latency\n",
    "![](latency-analysis.png)\n"
   ]
  }
 ],
 "metadata": {
  "celltoolbar": "Slideshow",
  "kernelspec": {
   "display_name": "Python 3",
   "language": "python",
   "name": "python3"
  },
  "language_info": {
   "codemirror_mode": {
    "name": "ipython",
    "version": 3
   },
   "file_extension": ".py",
   "mimetype": "text/x-python",
   "name": "python",
   "nbconvert_exporter": "python",
   "pygments_lexer": "ipython3",
   "version": "3.6.2"
  }
 },
 "nbformat": 4,
 "nbformat_minor": 2
}
